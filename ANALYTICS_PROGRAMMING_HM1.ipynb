{
  "nbformat": 4,
  "nbformat_minor": 0,
  "metadata": {
    "colab": {
      "provenance": [],
      "include_colab_link": true
    },
    "kernelspec": {
      "name": "python3",
      "display_name": "Python 3"
    },
    "language_info": {
      "name": "python"
    }
  },
  "cells": [
    {
      "cell_type": "markdown",
      "metadata": {
        "id": "view-in-github",
        "colab_type": "text"
      },
      "source": [
        "<a href=\"https://colab.research.google.com/github/vcngeno/Group_Work_Homework_2/blob/main/ANALYTICS_PROGRAMMING_HM1.ipynb\" target=\"_parent\"><img src=\"https://colab.research.google.com/assets/colab-badge.svg\" alt=\"Open In Colab\"/></a>"
      ]
    },
    {
      "cell_type": "markdown",
      "source": [
        "#Importing libraries & loading data"
      ],
      "metadata": {
        "id": "GSi3ZV9BhYxZ"
      }
    },
    {
      "cell_type": "code",
      "execution_count": 28,
      "metadata": {
        "id": "4r0pplQ5S9US"
      },
      "outputs": [],
      "source": [
        "#importing the libraries\n",
        "import pandas as pd\n",
        "import numpy as np\n",
        "import matplotlib.pyplot as plt\n",
        "import seaborn as sns"
      ]
    },
    {
      "cell_type": "code",
      "source": [
        "# Read the header file (assuming it's a CSV with one row)\n",
        "df_header = '/content/headers.txt'\n",
        "headers = pd.read_csv(df_header, header=None).iloc[0].tolist()"
      ],
      "metadata": {
        "id": "AWALtiVLdu8G"
      },
      "execution_count": 2,
      "outputs": []
    },
    {
      "cell_type": "code",
      "source": [
        "# Read the data file (assuming it's a CSV without headers)\n",
        "df_data = '/content/rawdata.csv'\n",
        "data = pd.read_csv(df_data, header=None, sep = '\\t', on_bad_lines='skip')"
      ],
      "metadata": {
        "colab": {
          "base_uri": "https://localhost:8080/"
        },
        "id": "njYbbrnPd1TW",
        "outputId": "393f3990-2dc5-4f63-b1fe-fc96d296885a"
      },
      "execution_count": 3,
      "outputs": [
        {
          "output_type": "stream",
          "name": "stderr",
          "text": [
            "<ipython-input-3-3b816f161f43>:3: DtypeWarning: Columns (1,2,4) have mixed types. Specify dtype option on import or set low_memory=False.\n",
            "  data = pd.read_csv(df_data, header=None, sep = '\\t', on_bad_lines='skip')\n"
          ]
        }
      ]
    },
    {
      "cell_type": "code",
      "source": [
        "print(data)"
      ],
      "metadata": {
        "colab": {
          "base_uri": "https://localhost:8080/"
        },
        "id": "U1IVMlpPwr7Z",
        "outputId": "dda60e08-94f8-4314-dc54-3d12da83a9a5"
      },
      "execution_count": 4,
      "outputs": [
        {
          "output_type": "stream",
          "name": "stdout",
          "text": [
            "                           0         1         2     3        4  \\\n",
            "0        2013-01-02 09:45:00  20130102   94500.0     A   41.655   \n",
            "1        2013-01-02 09:45:00  20130102   94500.0    AA    8.855   \n",
            "2        2013-01-02 09:45:00  20130102   94500.0   AAN    28.64   \n",
            "3        2013-01-02 09:45:00  20130102   94500.0   AAP    72.99   \n",
            "4        2013-01-02 09:45:00  20130102   94500.0  AAPL  551.595   \n",
            "...                      ...       ...       ...   ...      ...   \n",
            "9767807  2013-02-25 13:43:00  20130225  134300.0   ACT   84.075   \n",
            "9767808  2013-02-25 13:43:00  20130225  134300.0  ACTG    30.31   \n",
            "9767809  2013-02-25 13:43:00  20130225  134300.0  ADBE   38.705   \n",
            "9767810  2013-02-25 13:43:00  20130225  134300.0   ADI   45.445   \n",
            "9767811  2013-02-25 13:43:00  20130225  134300.0   ADM   32.025   \n",
            "\n",
            "                                          5                                 6  \\\n",
            "0                 IndustrySector_Industrial         IndustryGroup_Electronics   \n",
            "1             IndustrySector_BasicMaterials              IndustryGroup_Mining   \n",
            "2        IndustrySector_ConsumerNonCyclical  IndustryGroup_CommercialServices   \n",
            "3           IndustrySector_ConsumerCyclical              IndustryGroup_Retail   \n",
            "4                 IndustrySector_Technology           IndustryGroup_Computers   \n",
            "...                                     ...                               ...   \n",
            "9767807  IndustrySector_ConsumerNonCyclical     IndustryGroup_Pharmaceuticals   \n",
            "9767808  IndustrySector_ConsumerNonCyclical  IndustryGroup_CommercialServices   \n",
            "9767809           IndustrySector_Technology            IndustryGroup_Software   \n",
            "9767810           IndustrySector_Technology      IndustryGroup_Semiconductors   \n",
            "9767811  IndustrySector_ConsumerNonCyclical                          Industry   \n",
            "\n",
            "                 7         8  \n",
            "0        10.803500  0.075531  \n",
            "1         2.273380  0.000000  \n",
            "2        -6.308750  4.000000  \n",
            "3         0.000000  0.000000  \n",
            "4        -0.864097 -0.007636  \n",
            "...            ...       ...  \n",
            "9767807  -0.021090 -0.079342  \n",
            "9767808  -0.195816 -0.302187  \n",
            "9767809  -0.016845  0.102786  \n",
            "9767810  -0.139203  0.000000  \n",
            "9767811        NaN       NaN  \n",
            "\n",
            "[9767812 rows x 9 columns]\n"
          ]
        }
      ]
    },
    {
      "cell_type": "code",
      "source": [
        "data.columns = headers"
      ],
      "metadata": {
        "id": "Bl_qRCX9vDvk"
      },
      "execution_count": 5,
      "outputs": []
    },
    {
      "cell_type": "code",
      "source": [
        "# Now the 'data' DataFrame has both the data and the correct headers\n",
        "print(data.head())"
      ],
      "metadata": {
        "colab": {
          "base_uri": "https://localhost:8080/"
        },
        "id": "QQ_HpHwsdUMV",
        "outputId": "8829bdbb-80ee-4ce1-ff17-ca98e108c15e"
      },
      "execution_count": 6,
      "outputs": [
        {
          "output_type": "stream",
          "name": "stdout",
          "text": [
            "              datetime      Date     time ticker      mid  \\\n",
            "0  2013-01-02 09:45:00  20130102  94500.0      A   41.655   \n",
            "1  2013-01-02 09:45:00  20130102  94500.0     AA    8.855   \n",
            "2  2013-01-02 09:45:00  20130102  94500.0    AAN    28.64   \n",
            "3  2013-01-02 09:45:00  20130102  94500.0    AAP    72.99   \n",
            "4  2013-01-02 09:45:00  20130102  94500.0   AAPL  551.595   \n",
            "\n",
            "                               sector                     industrygroup  \\\n",
            "0           IndustrySector_Industrial         IndustryGroup_Electronics   \n",
            "1       IndustrySector_BasicMaterials              IndustryGroup_Mining   \n",
            "2  IndustrySector_ConsumerNonCyclical  IndustryGroup_CommercialServices   \n",
            "3     IndustrySector_ConsumerCyclical              IndustryGroup_Retail   \n",
            "4           IndustrySector_Technology           IndustryGroup_Computers   \n",
            "\n",
            "      alpha1    alpha2  \n",
            "0  10.803500  0.075531  \n",
            "1   2.273380  0.000000  \n",
            "2  -6.308750  4.000000  \n",
            "3   0.000000  0.000000  \n",
            "4  -0.864097 -0.007636  \n"
          ]
        }
      ]
    },
    {
      "cell_type": "markdown",
      "source": [
        "#Data Cleaning"
      ],
      "metadata": {
        "id": "xBIlCE2kgOIA"
      }
    },
    {
      "cell_type": "code",
      "source": [
        "#Remove missing data points in ticker column\n",
        "df_final = data.dropna(subset=['ticker'])"
      ],
      "metadata": {
        "id": "H81jIf_ngUBI"
      },
      "execution_count": 7,
      "outputs": []
    },
    {
      "cell_type": "code",
      "source": [
        "#Cleaned dataframe\n",
        "print(df_final)"
      ],
      "metadata": {
        "colab": {
          "base_uri": "https://localhost:8080/"
        },
        "id": "IFC6i1fHhh9c",
        "outputId": "8771a64a-d746-4e22-949f-b55c79fde975"
      },
      "execution_count": 8,
      "outputs": [
        {
          "output_type": "stream",
          "name": "stdout",
          "text": [
            "                    datetime      Date      time ticker      mid  \\\n",
            "0        2013-01-02 09:45:00  20130102   94500.0      A   41.655   \n",
            "1        2013-01-02 09:45:00  20130102   94500.0     AA    8.855   \n",
            "2        2013-01-02 09:45:00  20130102   94500.0    AAN    28.64   \n",
            "3        2013-01-02 09:45:00  20130102   94500.0    AAP    72.99   \n",
            "4        2013-01-02 09:45:00  20130102   94500.0   AAPL  551.595   \n",
            "...                      ...       ...       ...    ...      ...   \n",
            "9767807  2013-02-25 13:43:00  20130225  134300.0    ACT   84.075   \n",
            "9767808  2013-02-25 13:43:00  20130225  134300.0   ACTG    30.31   \n",
            "9767809  2013-02-25 13:43:00  20130225  134300.0   ADBE   38.705   \n",
            "9767810  2013-02-25 13:43:00  20130225  134300.0    ADI   45.445   \n",
            "9767811  2013-02-25 13:43:00  20130225  134300.0    ADM   32.025   \n",
            "\n",
            "                                     sector                     industrygroup  \\\n",
            "0                 IndustrySector_Industrial         IndustryGroup_Electronics   \n",
            "1             IndustrySector_BasicMaterials              IndustryGroup_Mining   \n",
            "2        IndustrySector_ConsumerNonCyclical  IndustryGroup_CommercialServices   \n",
            "3           IndustrySector_ConsumerCyclical              IndustryGroup_Retail   \n",
            "4                 IndustrySector_Technology           IndustryGroup_Computers   \n",
            "...                                     ...                               ...   \n",
            "9767807  IndustrySector_ConsumerNonCyclical     IndustryGroup_Pharmaceuticals   \n",
            "9767808  IndustrySector_ConsumerNonCyclical  IndustryGroup_CommercialServices   \n",
            "9767809           IndustrySector_Technology            IndustryGroup_Software   \n",
            "9767810           IndustrySector_Technology      IndustryGroup_Semiconductors   \n",
            "9767811  IndustrySector_ConsumerNonCyclical                          Industry   \n",
            "\n",
            "            alpha1    alpha2  \n",
            "0        10.803500  0.075531  \n",
            "1         2.273380  0.000000  \n",
            "2        -6.308750  4.000000  \n",
            "3         0.000000  0.000000  \n",
            "4        -0.864097 -0.007636  \n",
            "...            ...       ...  \n",
            "9767807  -0.021090 -0.079342  \n",
            "9767808  -0.195816 -0.302187  \n",
            "9767809  -0.016845  0.102786  \n",
            "9767810  -0.139203  0.000000  \n",
            "9767811        NaN       NaN  \n",
            "\n",
            "[9767811 rows x 9 columns]\n"
          ]
        }
      ]
    },
    {
      "cell_type": "code",
      "source": [
        "#Find the best-performing (return) sector\n",
        "best_perf = df_final.loc[df_final['alpha1'] > 0, ['sector','alpha1']]\n",
        "df_final2 = best_perf.sort_values('alpha1', ascending=False)\n",
        "df_best_sector = df_final2.head(1)\n",
        "print(df_best_sector)"
      ],
      "metadata": {
        "colab": {
          "base_uri": "https://localhost:8080/"
        },
        "id": "zjmv847q7CXl",
        "outputId": "b7e73dbb-cda2-4bf8-c2ae-b8901525670c"
      },
      "execution_count": 26,
      "outputs": [
        {
          "output_type": "stream",
          "name": "stdout",
          "text": [
            "                                    sector   alpha1\n",
            "529507  IndustrySector_ConsumerNonCyclical  185.702\n"
          ]
        }
      ]
    },
    {
      "cell_type": "markdown",
      "source": [
        "#Data Visualization"
      ],
      "metadata": {
        "id": "Cnw2NykFgiz8"
      }
    },
    {
      "cell_type": "markdown",
      "source": [],
      "metadata": {
        "id": "E8pzNB99BPLo"
      }
    },
    {
      "cell_type": "code",
      "source": [
        "# Plotting histogram using seaborn\n",
        "plt.figure(figsize=(10, 6))\n",
        "sns.histplot(df_final['alpha1'], bins=10, kde=True)\n",
        "plt.title('Histogram of Returns')\n",
        "plt.xlabel('alpha1')\n",
        "plt.ylabel('Frequency')\n",
        "plt.grid(True)\n",
        "plt.show()"
      ],
      "metadata": {
        "colab": {
          "base_uri": "https://localhost:8080/",
          "height": 564
        },
        "id": "GEA98ZOSBviO",
        "outputId": "ef3428d0-b344-49fa-cfea-428197811430"
      },
      "execution_count": 31,
      "outputs": [
        {
          "output_type": "display_data",
          "data": {
            "text/plain": [
              "<Figure size 1000x600 with 1 Axes>"
            ],
            "image/png": "[encoded data removed]"
          },
          "metadata": {}
        }
      ]
    }
  ]
}